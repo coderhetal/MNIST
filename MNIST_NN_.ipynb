{
  "nbformat": 4,
  "nbformat_minor": 0,
  "metadata": {
    "colab": {
      "provenance": [],
      "gpuType": "T4",
      "include_colab_link": true
    },
    "kernelspec": {
      "name": "python3",
      "display_name": "Python 3"
    },
    "language_info": {
      "name": "python"
    },
    "accelerator": "GPU"
  },
  "cells": [
    {
      "cell_type": "markdown",
      "metadata": {
        "id": "view-in-github",
        "colab_type": "text"
      },
      "source": [
        "<a href=\"https://colab.research.google.com/github/coderhetal/MNIST-Handwritten-digits-classification/blob/main/MNIST_NN_.ipynb\" target=\"_parent\"><img src=\"https://colab.research.google.com/assets/colab-badge.svg\" alt=\"Open In Colab\"/></a>"
      ]
    },
    {
      "cell_type": "markdown",
      "source": [
        "\n",
        "MAKING A FULLY CONNECTED NEURAL NETWORK ::\n"
      ],
      "metadata": {
        "id": "lgHM9GfgCxYb"
      }
    },
    {
      "cell_type": "markdown",
      "source": [
        "# Importing the libraries :"
      ],
      "metadata": {
        "id": "ztSKJxMigtwn"
      }
    },
    {
      "cell_type": "code",
      "source": [
        "import torch\n",
        "import torch.nn as nn # All neural network modules, nn.Linear, nn.Conv2d, BatchNorm, Loss functions\n",
        "import torch.optim as optim # For all Optimization algorithms, SGD, Adam, etc.\n",
        "import torch.nn.functional as F # All functions that don't have any parameters\n",
        "from torch.utils.data import DataLoader # Gives easier dataset managment and creates mini batches\n",
        "import torchvision.datasets as datasets # Has standard datasets we can import in a nice and easy way\n",
        "import torchvision.transforms as transforms # Transformations we can perform on our dataset"
      ],
      "metadata": {
        "id": "qeiMyndnFLW7"
      },
      "execution_count": 2,
      "outputs": []
    },
    {
      "cell_type": "markdown",
      "source": [
        "# Creating data loader"
      ],
      "metadata": {
        "id": "uaupQ2Bjg3yg"
      }
    },
    {
      "cell_type": "code",
      "source": [
        "batch_size = 64\n",
        "# minibatch size selected is 64\n",
        "train_dataset = datasets.MNIST(\n",
        "    root=\"dataset/\",\n",
        "    train=True,\n",
        "    transform=transforms.ToTensor(),\n",
        "    download=True,\n",
        ")\n",
        "train_loader = DataLoader(\n",
        "    dataset=train_dataset, batch_size=batch_size, shuffle=True\n",
        ")\n",
        "test_dataset = datasets.MNIST(\n",
        "    root=\"dataset/\",\n",
        "    train=False,\n",
        "    transform=transforms.ToTensor(),\n",
        "    download=True,\n",
        ")\n",
        "test_loader = DataLoader(\n",
        "    dataset=test_dataset, batch_size=batch_size, shuffle=True\n",
        ")"
      ],
      "metadata": {
        "id": "JiHlntArQKSN",
        "outputId": "d5cd8605-92af-4931-c766-4f7f11da857f",
        "colab": {
          "base_uri": "https://localhost:8080/"
        }
      },
      "execution_count": 3,
      "outputs": [
        {
          "output_type": "stream",
          "name": "stdout",
          "text": [
            "Downloading http://yann.lecun.com/exdb/mnist/train-images-idx3-ubyte.gz\n",
            "Downloading http://yann.lecun.com/exdb/mnist/train-images-idx3-ubyte.gz to dataset/MNIST/raw/train-images-idx3-ubyte.gz\n"
          ]
        },
        {
          "output_type": "stream",
          "name": "stderr",
          "text": [
            "100%|██████████| 9912422/9912422 [00:00<00:00, 293224470.65it/s]"
          ]
        },
        {
          "output_type": "stream",
          "name": "stdout",
          "text": [
            "Extracting dataset/MNIST/raw/train-images-idx3-ubyte.gz to dataset/MNIST/raw\n"
          ]
        },
        {
          "output_type": "stream",
          "name": "stderr",
          "text": [
            "\n"
          ]
        },
        {
          "output_type": "stream",
          "name": "stdout",
          "text": [
            "\n",
            "Downloading http://yann.lecun.com/exdb/mnist/train-labels-idx1-ubyte.gz\n",
            "Downloading http://yann.lecun.com/exdb/mnist/train-labels-idx1-ubyte.gz to dataset/MNIST/raw/train-labels-idx1-ubyte.gz\n"
          ]
        },
        {
          "output_type": "stream",
          "name": "stderr",
          "text": [
            "100%|██████████| 28881/28881 [00:00<00:00, 3957906.74it/s]\n"
          ]
        },
        {
          "output_type": "stream",
          "name": "stdout",
          "text": [
            "Extracting dataset/MNIST/raw/train-labels-idx1-ubyte.gz to dataset/MNIST/raw\n",
            "\n",
            "Downloading http://yann.lecun.com/exdb/mnist/t10k-images-idx3-ubyte.gz\n",
            "Downloading http://yann.lecun.com/exdb/mnist/t10k-images-idx3-ubyte.gz to dataset/MNIST/raw/t10k-images-idx3-ubyte.gz\n"
          ]
        },
        {
          "output_type": "stream",
          "name": "stderr",
          "text": [
            "100%|██████████| 1648877/1648877 [00:00<00:00, 133534617.92it/s]"
          ]
        },
        {
          "output_type": "stream",
          "name": "stdout",
          "text": [
            "Extracting dataset/MNIST/raw/t10k-images-idx3-ubyte.gz to dataset/MNIST/raw\n"
          ]
        },
        {
          "output_type": "stream",
          "name": "stderr",
          "text": [
            "\n"
          ]
        },
        {
          "output_type": "stream",
          "name": "stdout",
          "text": [
            "\n",
            "Downloading http://yann.lecun.com/exdb/mnist/t10k-labels-idx1-ubyte.gz\n",
            "Downloading http://yann.lecun.com/exdb/mnist/t10k-labels-idx1-ubyte.gz to dataset/MNIST/raw/t10k-labels-idx1-ubyte.gz\n"
          ]
        },
        {
          "output_type": "stream",
          "name": "stderr",
          "text": [
            "100%|██████████| 4542/4542 [00:00<00:00, 22679200.91it/s]\n"
          ]
        },
        {
          "output_type": "stream",
          "name": "stdout",
          "text": [
            "Extracting dataset/MNIST/raw/t10k-labels-idx1-ubyte.gz to dataset/MNIST/raw\n",
            "\n"
          ]
        }
      ]
    },
    {
      "cell_type": "code",
      "source": [
        "import matplotlib.pyplot as plt\n"
      ],
      "metadata": {
        "id": "m-zldkwmoB2S"
      },
      "execution_count": 4,
      "outputs": []
    },
    {
      "cell_type": "code",
      "source": [
        "# visualize data\n",
        "# this shows coloured images due to the imshow as it maps the grayscaled images to the color map\n",
        "fig=plt.figure(figsize=(20, 10))\n",
        "for i in range(1, 10):\n",
        "    img = transforms.ToPILImage(mode='L')(train_dataset[i][0])\n",
        "    fig.add_subplot(1, 10, i)\n",
        "    plt.title(train_dataset[i][1])\n",
        "    plt.imshow(img)\n",
        "    #if want to the the original grayscaled images use this :\n",
        "    #plt.imshow(img, cmap='gray')\n",
        "\n",
        "plt.show()\n"
      ],
      "metadata": {
        "id": "W1Zvh6mZnlE5",
        "outputId": "1e2ed14b-d429-40d3-804b-b6aa48c009bf",
        "colab": {
          "base_uri": "https://localhost:8080/",
          "height": 211
        }
      },
      "execution_count": 12,
      "outputs": [
        {
          "output_type": "display_data",
          "data": {
            "text/plain": [
              "<Figure size 2000x1000 with 9 Axes>"
            ],
            "image/png": "[encoded data removed]"
          },
          "metadata": {}
        }
      ]
    },
    {
      "cell_type": "markdown",
      "source": [
        "# Model"
      ],
      "metadata": {
        "id": "BJZI78IXg7v8"
      }
    },
    {
      "cell_type": "code",
      "source": [
        "\n",
        "class NN(nn.Module):\n",
        "    def __init__(self, input_size, num_classes):\n",
        "        super(NN, self).__init__()\n",
        "        self.fc1 = nn.Linear(input_size, 50)#hidden layer\n",
        "        # hidden layer of 50 nodes\n",
        "        self.fc2 = nn.Linear(50, num_classes)# output layer\n",
        "\n",
        "    def forward(self, x): #784\n",
        "        x = F.relu(self.fc1(x))\n",
        "        x = self.fc2(x)\n",
        "        return x\n",
        "\n",
        "\n",
        "#super(NN, self).__init__() is a way to invoke the initialization method\n",
        "#of the parent class within the subclass constructor, ensuring proper initialization and inheritance"
      ],
      "metadata": {
        "id": "AKJKUzQwQKQh"
      },
      "execution_count": 15,
      "outputs": []
    },
    {
      "cell_type": "markdown",
      "source": [
        "# Setting device"
      ],
      "metadata": {
        "id": "ObzsGWeDg96W"
      }
    },
    {
      "cell_type": "code",
      "source": [
        "\n",
        "device = torch.device(\"cuda\" if torch.cuda.is_available() else \"cpu\")\n",
        "input_size =784\n",
        " # 28x28 = 784, size of MNIST images (grayscale)\n",
        "num_classes = 10\n",
        "learning_rate = 0.001\n",
        "num_epochs = 5"
      ],
      "metadata": {
        "id": "b34YYH2lQKPT"
      },
      "execution_count": 16,
      "outputs": []
    },
    {
      "cell_type": "markdown",
      "source": [
        "# Initializing the parameters :"
      ],
      "metadata": {
        "id": "flGwiPDLhCCt"
      }
    },
    {
      "cell_type": "code",
      "source": [
        "\n",
        "model = NN(input_size=input_size, num_classes=num_classes).to(device)\n",
        "criterion = nn.CrossEntropyLoss()\n",
        "optimizer = optim.Adam(model.parameters(), lr=learning_rate)"
      ],
      "metadata": {
        "id": "Vg2I-O-yQKOD"
      },
      "execution_count": 17,
      "outputs": []
    },
    {
      "cell_type": "code",
      "source": [
        "costs=[]\n",
        "acc_list=[]\n",
        "\n",
        "print(f'Batch size  {batch_size}')\n",
        "total_step=len(train_loader)\n",
        "print(f'total train data batches  {total_step}')\n",
        "m=batch_size*total_step\n",
        "print(f'total training data  {m}')\n",
        "total_test_batches=len(test_loader)\n",
        "print(f'total test data batches  {total_test_batches}')\n",
        "t=batch_size*total_test_batches\n",
        "print(f'total test data   {t}')\n",
        "print(f'total dataset size  {t+m}')\n",
        "\n",
        "\n",
        "\n",
        "#determines the number of mini-batches to iterate over the entire training dataset once. (iterations in 1 epoch )"
      ],
      "metadata": {
        "id": "xGXvaPABWgws",
        "outputId": "08021e07-84a1-4cdf-e509-3e7a0b59fcc2",
        "colab": {
          "base_uri": "https://localhost:8080/"
        }
      },
      "execution_count": 33,
      "outputs": [
        {
          "output_type": "stream",
          "name": "stdout",
          "text": [
            "Batch size  64\n",
            "total train data batches  938\n",
            "total training data  60032\n",
            "total test data batches  157\n",
            "total test data   10048\n",
            "total dataset size  70080\n"
          ]
        }
      ]
    },
    {
      "cell_type": "markdown",
      "source": [
        "# Training and finding accuracy for training data"
      ],
      "metadata": {
        "id": "f0Mpl_o_hIQ1"
      }
    },
    {
      "cell_type": "code",
      "source": [
        "for epoch in range(num_epochs):\n",
        "    print(f\"Epoch: {epoch+1}\")\n",
        "    for batch_idx, (data, targets) in enumerate(train_loader):\n",
        "        # Get data to cuda if possible\n",
        "        data = data.to(device=device)\n",
        "        targets = targets.to(device=device)\n",
        "\n",
        "        # Get to correct shape, 28x28->784\n",
        "        # -1 will flatten all outer dimensions into one\n",
        "        data = data.reshape(data.shape[0], -1)\n",
        "\n",
        "        # forward propagation\n",
        "        scores = model(data)\n",
        "        loss = criterion(scores, targets)\n",
        "        costs.append(loss.item())\n",
        "\n",
        "        # zero previous gradients\n",
        "        optimizer.zero_grad()\n",
        "\n",
        "        # back-propagation\n",
        "        loss.backward()\n",
        "\n",
        "        # gradient descent or adam step\n",
        "        optimizer.step()\n",
        "\n",
        "        # tracking accuracy\n",
        "        total=targets.size(0)\n",
        "        _, predictions = torch.max(scores.data,1)\n",
        "         #finds the maximum value along dimension 1\n",
        "         #returns two values: the maximum values and their corresponding indices\n",
        "\n",
        "        num_correct = (predictions == targets).sum().item()\n",
        "        #creates a boolean tensor\n",
        "        #sums all the true ones and gives a scaler value for it\n",
        "        acc_list.append(num_correct/total)\n",
        "\n",
        "\n",
        "\n",
        "        if (batch_idx + 1) % 100 == 0:\n",
        "            print('Epoch [{}/{}], Step [{}/{}], Loss: {:.4f}, Accuracy: {:.2f}%'\n",
        "                  .format(epoch + 1, num_epochs, batch_idx + 1, total_step, loss.item(),\n",
        "                          (num_correct / total) * 100))"
      ],
      "metadata": {
        "colab": {
          "base_uri": "https://localhost:8080/"
        },
        "id": "aWPTTjXVQKMo",
        "outputId": "d758143c-b82b-42c6-bfb1-eb1333b44337"
      },
      "execution_count": 20,
      "outputs": [
        {
          "output_type": "stream",
          "name": "stdout",
          "text": [
            "Epoch: 1\n",
            "Epoch [1/5], Step [100/938], Loss: 0.0837, Accuracy: 96.88%\n",
            "Epoch [1/5], Step [200/938], Loss: 0.0995, Accuracy: 95.31%\n",
            "Epoch [1/5], Step [300/938], Loss: 0.1183, Accuracy: 95.31%\n",
            "Epoch [1/5], Step [400/938], Loss: 0.0968, Accuracy: 93.75%\n",
            "Epoch [1/5], Step [500/938], Loss: 0.0720, Accuracy: 98.44%\n",
            "Epoch [1/5], Step [600/938], Loss: 0.0759, Accuracy: 96.88%\n",
            "Epoch [1/5], Step [700/938], Loss: 0.0733, Accuracy: 96.88%\n",
            "Epoch [1/5], Step [800/938], Loss: 0.0738, Accuracy: 98.44%\n",
            "Epoch [1/5], Step [900/938], Loss: 0.0246, Accuracy: 100.00%\n",
            "Epoch: 2\n",
            "Epoch [2/5], Step [100/938], Loss: 0.1136, Accuracy: 96.88%\n",
            "Epoch [2/5], Step [200/938], Loss: 0.0656, Accuracy: 98.44%\n",
            "Epoch [2/5], Step [300/938], Loss: 0.0348, Accuracy: 98.44%\n",
            "Epoch [2/5], Step [400/938], Loss: 0.1018, Accuracy: 96.88%\n",
            "Epoch [2/5], Step [500/938], Loss: 0.1155, Accuracy: 95.31%\n",
            "Epoch [2/5], Step [600/938], Loss: 0.1076, Accuracy: 96.88%\n",
            "Epoch [2/5], Step [700/938], Loss: 0.0509, Accuracy: 98.44%\n",
            "Epoch [2/5], Step [800/938], Loss: 0.0317, Accuracy: 98.44%\n",
            "Epoch [2/5], Step [900/938], Loss: 0.0230, Accuracy: 100.00%\n",
            "Epoch: 3\n",
            "Epoch [3/5], Step [100/938], Loss: 0.0900, Accuracy: 98.44%\n",
            "Epoch [3/5], Step [200/938], Loss: 0.1238, Accuracy: 92.19%\n",
            "Epoch [3/5], Step [300/938], Loss: 0.2728, Accuracy: 93.75%\n",
            "Epoch [3/5], Step [400/938], Loss: 0.0540, Accuracy: 98.44%\n",
            "Epoch [3/5], Step [500/938], Loss: 0.0735, Accuracy: 98.44%\n",
            "Epoch [3/5], Step [600/938], Loss: 0.0174, Accuracy: 100.00%\n",
            "Epoch [3/5], Step [700/938], Loss: 0.0323, Accuracy: 100.00%\n",
            "Epoch [3/5], Step [800/938], Loss: 0.0712, Accuracy: 98.44%\n",
            "Epoch [3/5], Step [900/938], Loss: 0.0897, Accuracy: 96.88%\n",
            "Epoch: 4\n",
            "Epoch [4/5], Step [100/938], Loss: 0.0158, Accuracy: 100.00%\n",
            "Epoch [4/5], Step [200/938], Loss: 0.0993, Accuracy: 98.44%\n",
            "Epoch [4/5], Step [300/938], Loss: 0.0263, Accuracy: 100.00%\n",
            "Epoch [4/5], Step [400/938], Loss: 0.0261, Accuracy: 100.00%\n",
            "Epoch [4/5], Step [500/938], Loss: 0.0361, Accuracy: 100.00%\n",
            "Epoch [4/5], Step [600/938], Loss: 0.1424, Accuracy: 96.88%\n",
            "Epoch [4/5], Step [700/938], Loss: 0.0187, Accuracy: 100.00%\n",
            "Epoch [4/5], Step [800/938], Loss: 0.0281, Accuracy: 100.00%\n",
            "Epoch [4/5], Step [900/938], Loss: 0.0877, Accuracy: 96.88%\n",
            "Epoch: 5\n",
            "Epoch [5/5], Step [100/938], Loss: 0.0121, Accuracy: 100.00%\n",
            "Epoch [5/5], Step [200/938], Loss: 0.0356, Accuracy: 100.00%\n",
            "Epoch [5/5], Step [300/938], Loss: 0.0488, Accuracy: 98.44%\n",
            "Epoch [5/5], Step [400/938], Loss: 0.0464, Accuracy: 98.44%\n",
            "Epoch [5/5], Step [500/938], Loss: 0.0419, Accuracy: 98.44%\n",
            "Epoch [5/5], Step [600/938], Loss: 0.0513, Accuracy: 96.88%\n",
            "Epoch [5/5], Step [700/938], Loss: 0.0364, Accuracy: 100.00%\n",
            "Epoch [5/5], Step [800/938], Loss: 0.0156, Accuracy: 100.00%\n",
            "Epoch [5/5], Step [900/938], Loss: 0.0213, Accuracy: 100.00%\n"
          ]
        }
      ]
    },
    {
      "cell_type": "code",
      "source": [
        "import matplotlib.pyplot as plt"
      ],
      "metadata": {
        "id": "f1As4HXWbceP"
      },
      "execution_count": null,
      "outputs": []
    },
    {
      "cell_type": "markdown",
      "source": [
        "# Plotting the loss and accuracy for training data"
      ],
      "metadata": {
        "id": "_gCwUE7MhNqN"
      }
    },
    {
      "cell_type": "code",
      "source": [
        "fig = plt.figure()\n",
        "fig.suptitle('Learning Curves', fontsize=20)\n",
        "plt.xlabel('Number of Iterations', fontsize=14)\n",
        "plt.plot(costs, label = 'Training Cost')\n",
        "plt.plot(acc_list, label = 'Training Accuracy')\n",
        "plt.legend()\n",
        "plt.savefig('CNN.png')"
      ],
      "metadata": {
        "colab": {
          "base_uri": "https://localhost:8080/",
          "height": 502
        },
        "id": "mjfChNY6WZXQ",
        "outputId": "d1c306a7-2c35-41bd-aeb5-a28ac924aa83"
      },
      "execution_count": null,
      "outputs": [
        {
          "output_type": "display_data",
          "data": {
            "text/plain": [
              "<Figure size 640x480 with 1 Axes>"
            ],
            "image/png": "[encoded data removed]"
          },
          "metadata": {}
        }
      ]
    },
    {
      "cell_type": "code",
      "source": [
        "import numpy as np"
      ],
      "metadata": {
        "id": "dv169vN-czSz"
      },
      "execution_count": null,
      "outputs": []
    },
    {
      "cell_type": "markdown",
      "source": [
        "# Accuracy for test data :"
      ],
      "metadata": {
        "id": "Ijm-6zvKhaD3"
      }
    },
    {
      "cell_type": "code",
      "source": [
        "model.eval()\n",
        "for i, (images, targets) in enumerate(test_loader):\n",
        "    images = images.to(device=device)\n",
        "    targets= targets.to(device=device)\n",
        "    images =  images.reshape( images.shape[0], -1)\n",
        "    outputs = model(images)\n",
        "    loss = criterion(outputs, targets)\n",
        "    costs.append(loss.item())\n",
        "    total = targets.size(0)\n",
        "    _, predicted = torch.max(outputs.data, 1)\n",
        "    correct = (predicted ==targets).sum().item()\n",
        "    acc_list.append(correct / total)\n",
        "acc = np.mean(np.array(acc_list))\n",
        "print(\"Accuracy over Test set is : \",100*acc)"
      ],
      "metadata": {
        "colab": {
          "base_uri": "https://localhost:8080/"
        },
        "id": "A6LILl2Rb-Km",
        "outputId": "12d36efe-1ab1-46a8-a0fe-e49041b7d8a5"
      },
      "execution_count": null,
      "outputs": [
        {
          "output_type": "stream",
          "name": "stdout",
          "text": [
            "Accuracy over Test set is :  94.75957697088067\n"
          ]
        }
      ]
    }
  ]
}